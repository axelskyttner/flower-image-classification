{
 "cells": [
  {
   "cell_type": "code",
   "execution_count": 1,
   "metadata": {},
   "outputs": [],
   "source": [
    "import matplotlib.pyplot as plt\n",
    "import h5py\n",
    "import numpy as np\n",
    "import os\n",
    "from shutil import copyfile\n",
    "\n",
    "def mkdir (path) :\n",
    "    if not os.path.exists(path):\n",
    "        os.mkdir(path)\n",
    "\n",
    "def copy (oldpath, newpath) :\n",
    "    if not os.path.exists(newpath) and os.path.exists(oldpath):\n",
    "        copyfile(oldpath, newpath )\n",
    "\n"
   ]
  },
  {
   "cell_type": "code",
   "execution_count": 2,
   "metadata": {},
   "outputs": [
    {
     "name": "stdout",
     "output_type": "stream",
     "text": [
      "#labels 102\n",
      "[[6765 6755 6768 ... 8026 8036 8041]]\n",
      "(1, 1020)\n",
      "[  1   1   1 ... 102 102 102]\n",
      "\n"
     ]
    }
   ],
   "source": [
    "import scipy.io\n",
    "labelMat = scipy.io.loadmat('utils/imagelabels.mat')\n",
    "split_mat = scipy.io.loadmat('utils/setid.mat')\n",
    "#distancemap = scipy.io.loadmat('distancematrices17.mat')\n",
    "train_split = split_mat['trnid'][:, :]\n",
    "valid_split = split_mat['valid'][:, :]\n",
    "labels = labelMat['labels']\n",
    "nr_labels = max(max(labels))\n",
    "print('#labels',nr_labels)\n",
    "print(train_split)\n",
    "print(train_split.shape)\n",
    "print(labelMat['labels'][0, train_split[0, :]])\n",
    "print()\n"
   ]
  },
  {
   "cell_type": "code",
   "execution_count": 5,
   "metadata": {},
   "outputs": [],
   "source": [
    "\n",
    "new_data_path = './data/train'\n",
    "old_data_path = './data/102flowers'\n",
    "dataset = train_split\n",
    "def filename (index):\n",
    "    return 'image_' + '{:05}'.format(index) + '.jpg'\n",
    "\n",
    "\n",
    "def move_files_to_folders(old_data_path, new_data_path, labels, image_references):\n",
    "    mkdir(new_data_path)\n",
    "    for label in labels:\n",
    "        classpath = new_data_path + '/' + np.array2string(label)\n",
    "        mkdir(classpath)\n",
    "\n",
    "    for train_id in image_references:\n",
    "        label = labels[train_id]\n",
    "        img_name = filename(train_id)\n",
    "        img_path = old_data_path + '/' + img_name\n",
    "        newpath = new_data_path + '/' + np.array2string(label) + '/' + img_name\n",
    "        copy(img_path, newpath)\n",
    "        \n",
    "move_files_to_folders(old_data_path, new_data_path, labels[0, :], dataset[0, :])\n"
   ]
  },
  {
   "cell_type": "code",
   "execution_count": null,
   "metadata": {},
   "outputs": [],
   "source": []
  }
 ],
 "metadata": {
  "kernelspec": {
   "display_name": "Python 3",
   "language": "python",
   "name": "python3"
  },
  "language_info": {
   "codemirror_mode": {
    "name": "ipython",
    "version": 3
   },
   "file_extension": ".py",
   "mimetype": "text/x-python",
   "name": "python",
   "nbconvert_exporter": "python",
   "pygments_lexer": "ipython3",
   "version": "3.7.3"
  }
 },
 "nbformat": 4,
 "nbformat_minor": 2
}
