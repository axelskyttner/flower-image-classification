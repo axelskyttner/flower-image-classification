{
 "cells": [
  {
   "cell_type": "code",
   "execution_count": 1,
   "metadata": {},
   "outputs": [
    {
     "name": "stderr",
     "output_type": "stream",
     "text": [
      "Using TensorFlow backend.\n"
     ]
    }
   ],
   "source": [
    "from keras.applications.resnet50 import ResNet50\n",
    "# from keras.applications.VGG16 import VGG16\n",
    "from keras.preprocessing import image\n",
    "from keras.preprocessing.image import ImageDataGenerator\n",
    "from keras.models import Model\n",
    "from keras.layers import Dense, GlobalAveragePooling2D\n",
    "import matplotlib.pyplot as plt\n",
    "import h5py\n",
    "from keras.applications.resnet50 import preprocess_input, decode_predictions\n",
    "from keras.callbacks import TensorBoard, ModelCheckpoint\n",
    "import datetime\n",
    "\n",
    "import numpy as np\n",
    "\n",
    "def get_file_name ():\n",
    "    now = datetime.datetime.now()\n",
    "    return \"%d%d%d-%d%d\" % (now.year, now.month, now.day, now.hour, now.minute)\n",
    "\n",
    "def get_model ():\n",
    "    base_model = ResNet50(weights='imagenet', include_top=False)\n",
    "\n",
    "    # add a global spatial average pooling layer\n",
    "    x = base_model.output\n",
    "    x = GlobalAveragePooling2D()(x)\n",
    "    # let's add a fully-connected layer\n",
    "    x = Dense(1024, activation='relu')(x)\n",
    "    # and a logistic layer -- let's say we have 200 classes\n",
    "    predictions = Dense(nr_labels, activation='softmax')(x)\n",
    "\n",
    "    # this is the model we will train\n",
    "    model = Model(inputs=base_model.input, outputs=predictions)\n",
    "    \n",
    "    \n",
    "    for layer in model.layers[:-5]:\n",
    "        layer.trainable = False\n",
    "\n",
    "    model.compile(optimizer='adam', loss='categorical_crossentropy', metrics=['accuracy'])\n",
    "    \n",
    "    return model\n",
    "\n",
    "def get_tensor_board () :\n",
    "    return TensorBoard(log_dir='./logs/' + get_file_name()  + '/', histogram_freq=0,\n",
    "                          write_graph=False, write_images=False)\n",
    "def get_generator (folder, batch_size=32):\n",
    "    train_datagen = ImageDataGenerator(\n",
    "        rescale=1./255,\n",
    "        shear_range=0.2,\n",
    "        zoom_range=0.2,\n",
    "        horizontal_flip=True)\n",
    "\n",
    "    train_generator = train_datagen.flow_from_directory(\n",
    "        folder,\n",
    "        target_size=(150, 150),\n",
    "        batch_size=batch_size,\n",
    "        class_mode='categorical')\n",
    "    \n",
    "    return train_generator"
   ]
  },
  {
   "cell_type": "code",
   "execution_count": null,
   "metadata": {
    "scrolled": true
   },
   "outputs": [],
   "source": [
    "import scipy.io\n",
    "labelMat = scipy.io.loadmat('utils/imagelabels.mat')\n",
    "\n",
    "#distancemap = scipy.io.loadmat('distancematrices17.mat')\n",
    "labels = labelMat['labels']\n",
    "nr_labels = max(max(labels))\n",
    "batch_size = 32\n",
    "nr_epochs = 100\n",
    "num_samples = 1020\n"
   ]
  },
  {
   "cell_type": "code",
   "execution_count": null,
   "metadata": {},
   "outputs": [
    {
     "name": "stdout",
     "output_type": "stream",
     "text": [
      "WARNING:tensorflow:From c:\\users\\axel\\kamai\\flower-image-classification\\venv\\lib\\site-packages\\tensorflow\\python\\framework\\op_def_library.py:263: colocate_with (from tensorflow.python.framework.ops) is deprecated and will be removed in a future version.\n",
      "Instructions for updating:\n",
      "Colocations handled automatically by placer.\n"
     ]
    },
    {
     "name": "stderr",
     "output_type": "stream",
     "text": [
      "c:\\users\\axel\\kamai\\flower-image-classification\\venv\\lib\\site-packages\\keras_applications\\resnet50.py:265: UserWarning: The output shape of `ResNet50(include_top=False)` has been changed since Keras 2.2.0.\n",
      "  warnings.warn('The output shape of `ResNet50(include_top=False)` '\n"
     ]
    },
    {
     "name": "stdout",
     "output_type": "stream",
     "text": [
      "Found 1020 images belonging to 102 classes.\n",
      "Found 1020 images belonging to 102 classes.\n",
      "WARNING:tensorflow:From c:\\users\\axel\\kamai\\flower-image-classification\\venv\\lib\\site-packages\\tensorflow\\python\\ops\\math_ops.py:3066: to_int32 (from tensorflow.python.ops.math_ops) is deprecated and will be removed in a future version.\n",
      "Instructions for updating:\n",
      "Use tf.cast instead.\n",
      "Epoch 1/100\n",
      "11/31 [=========>....................] - ETA: 1:12 - loss: 4.7311 - acc: 0.0966"
     ]
    }
   ],
   "source": [
    "\n",
    "tensorboard = get_tensor_board()\n",
    "model = get_model()\n",
    "\n",
    "\n",
    "train_generator = get_generator('data4/train', batch_size=batch_size)\n",
    "valid_generator = get_generator('data4/valid', batch_size=batch_size)\n",
    "\n",
    "\n",
    "model.fit_generator(train_generator, \n",
    "                    epochs=nr_epochs,\n",
    "                    steps_per_epoch= num_samples / batch_size, \n",
    "                    validation_data=valid_generator,\n",
    "                    validation_steps = num_samples / batch_size,\n",
    "                    callbacks=[\n",
    "                        tensorboard,\n",
    "                        ModelCheckpoint('models/model.h5', verbose=1, save_best_only=True)\n",
    "                    ])"
   ]
  },
  {
   "cell_type": "code",
   "execution_count": null,
   "metadata": {},
   "outputs": [],
   "source": [
    "\n"
   ]
  },
  {
   "cell_type": "code",
   "execution_count": null,
   "metadata": {},
   "outputs": [],
   "source": [
    "\n"
   ]
  },
  {
   "cell_type": "code",
   "execution_count": null,
   "metadata": {},
   "outputs": [],
   "source": [
    "\n",
    "\n"
   ]
  },
  {
   "cell_type": "code",
   "execution_count": null,
   "metadata": {},
   "outputs": [],
   "source": []
  },
  {
   "cell_type": "code",
   "execution_count": null,
   "metadata": {},
   "outputs": [],
   "source": []
  },
  {
   "cell_type": "code",
   "execution_count": null,
   "metadata": {},
   "outputs": [],
   "source": []
  },
  {
   "cell_type": "code",
   "execution_count": null,
   "metadata": {},
   "outputs": [],
   "source": []
  },
  {
   "cell_type": "code",
   "execution_count": null,
   "metadata": {},
   "outputs": [],
   "source": [
    "model.evaluate_generator(generator=valid_generator, steps=1)"
   ]
  },
  {
   "cell_type": "code",
   "execution_count": null,
   "metadata": {},
   "outputs": [],
   "source": [
    "print(model.metric_names)"
   ]
  }
 ],
 "metadata": {
  "kernelspec": {
   "display_name": "Python 3",
   "language": "python",
   "name": "python3"
  },
  "language_info": {
   "codemirror_mode": {
    "name": "ipython",
    "version": 3
   },
   "file_extension": ".py",
   "mimetype": "text/x-python",
   "name": "python",
   "nbconvert_exporter": "python",
   "pygments_lexer": "ipython3",
   "version": "3.6.5"
  }
 },
 "nbformat": 4,
 "nbformat_minor": 2
}
